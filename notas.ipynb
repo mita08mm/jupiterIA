{
 "cells": [
  {
   "cell_type": "code",
   "execution_count": null,
   "metadata": {},
   "outputs": [],
   "source": [
    "# General Use\n",
    "import pandas as pd\n",
    "import matplotlib.pyplot as plt\n",
    "import seaborn as sns\n",
    "import numpy as np\n",
    "\n",
    "# Clustering\n",
    "from sklearn.cluster import KMeans\n",
    "from sklearn.metrics import silhouette_score\n",
    "\n",
    "# 3D Visualization \n",
    "import plotly as py\n",
    "import plotly.graph_objs as go"
   ]
  },
  {
   "cell_type": "code",
   "execution_count": null,
   "metadata": {},
   "outputs": [],
   "source": [
    "# Carga de datos\n",
    "df = pd.read_csv(\"Mall_Customers.csv\", index_col=\"CustomerID\")\n",
    "df.head()"
   ]
  },
  {
   "cell_type": "code",
   "execution_count": null,
   "metadata": {},
   "outputs": [],
   "source": [
    "df.describe()"
   ]
  },
  {
   "cell_type": "code",
   "execution_count": null,
   "metadata": {},
   "outputs": [],
   "source": [
    "df.info()"
   ]
  },
  {
   "cell_type": "code",
   "execution_count": null,
   "metadata": {},
   "outputs": [],
   "source": [
    "df.drop(columns=['Gender'], inplace=True)# eliminamos la columna genero"
   ]
  },
  {
   "cell_type": "code",
   "execution_count": null,
   "metadata": {},
   "outputs": [],
   "source": [
    "sns.distplot(df[\"Age\"])# grafica de la distribucion de la edad"
   ]
  },
  {
   "cell_type": "code",
   "execution_count": null,
   "metadata": {},
   "outputs": [],
   "source": [
    "sns.distplot(df[\"Annual Income (k$)\"])# grafica de la distribucion de la ingreso"
   ]
  },
  {
   "cell_type": "code",
   "execution_count": null,
   "metadata": {},
   "outputs": [],
   "source": [
    "sns.distplot(df[\"Spending Score (1-100)\"])# grafica de la distribucion de la puntuacion"
   ]
  },
  {
   "cell_type": "markdown",
   "metadata": {},
   "source": [
    "### K-means Clustering\n",
    "\n",
    "K-means is one of the most known algorithms to find clusters, works with large datasets while being fast and efficient. This technique was developed in 1957!\n",
    "\n",
    "- Centroid-based clustering algorithm\n",
    "- Maximize intra-cluster similarity\n",
    "- Minimize inter-Cluster similarity\n",
    "\n",
    "To start we need to set the number of clusters for the K-Means algorithm - How many clusters do we want? - Usually represented by K.\n",
    "\n",
    "1. Then, the algorithm will randomly select K centers, one for each cluster of data (which are called centroids)\n",
    "2. Assign each instance to the closest centroid.\n",
    "3. Calculate the centroids of each cluster formed\n",
    "4. Return to step 2\n",
    "5. End when the centroids no longer change\n",
    "\n",
    "Randomly selected centroids impact the results ? Yes, but with scikit-learn"
   ]
  },
  {
   "cell_type": "markdown",
   "metadata": {},
   "source": [
    "### Client Segmentation with Annual Income and Spending Score"
   ]
  },
  {
   "cell_type": "code",
   "execution_count": null,
   "metadata": {},
   "outputs": [],
   "source": [
    "df1 = df[[\"Annual Income (k$)\", \"Spending Score (1-100)\"]]# creamos una copia de la base de datos "
   ]
  },
  {
   "cell_type": "code",
   "execution_count": null,
   "metadata": {},
   "outputs": [],
   "source": [
    "df1.plot(kind=\"scatter\",  # tipo de grafica \n",
    "        x=\"Annual Income (k$)\",# etiqueta eje x \n",
    "        y=\"Spending Score (1-100)\",\n",
    "        figsize=(10, 7))  # tamano de la grafica\n",
    "plt.show()"
   ]
  },
  {
   "cell_type": "code",
   "execution_count": null,
   "metadata": {},
   "outputs": [],
   "source": [
    "sum_of_sqr_dist = {} # diccionario para la suma de la distancia al cuadrada\n",
    "\n",
    "for k in range(1, 10): # bucle para el valor de k numero de grupos\n",
    "    km = KMeans(n_clusters=k, init='k-means++', max_iter=1000) # k-means de la biblioteca de scikit-learn, definimos n grupos y init inicializa los centroides  \n",
    "    km = km.fit(df1) # ajuste del modelo\n",
    "    sum_of_sqr_dist[k] = km.inertia_ # calculo de la suma de la distancia\n"
   ]
  },
  {
   "cell_type": "code",
   "execution_count": null,
   "metadata": {},
   "outputs": [],
   "source": [
    "sns.pointplot(x=list(sum_of_sqr_dist.keys()), y=list(sum_of_sqr_dist.values())) # grafica de la suma de la distancia al cuadrada \n",
    "plt.xlabel(\"Number of Clusters (K)\") # etiqueta eje x \n",
    "plt.ylabel(\"Sum of Square Distances\") # etiqueta eje y \n",
    "plt.title(\"Elbow Method for Optimal K\") # titulo\n",
    "plt.show() # mostrar grafica "
   ]
  },
  {
   "cell_type": "code",
   "execution_count": null,
   "metadata": {},
   "outputs": [],
   "source": [
    "# definimos el modelo\n",
    "# definimos el numero de grupos\n",
    "# definimos la inicializacion\n",
    "# definimos el maximo de iteraciones\n",
    "Model = KMeans(n_clusters=5, # numero de grupos \n",
    "             init='k-means++', # inicializacion\n",
    "             max_iter=1000) # maximo de iteraciones\n",
    "Model.fit(df1)"
   ]
  },
  {
   "cell_type": "code",
   "execution_count": null,
   "metadata": {},
   "outputs": [],
   "source": [
    "print(\"Labels\", Model.labels_)"
   ]
  },
  {
   "cell_type": "code",
   "execution_count": null,
   "metadata": {},
   "outputs": [],
   "source": [
    "print(\"Centroids\", Model.cluster_centers_)"
   ]
  },
  {
   "cell_type": "code",
   "execution_count": null,
   "metadata": {},
   "outputs": [],
   "source": [
    "# obtenemos las etiquetas\n",
    "centroids = Model.cluster_centers_"
   ]
  },
  {
   "cell_type": "code",
   "execution_count": null,
   "metadata": {},
   "outputs": [],
   "source": [
    "# creamos una copia\n",
    "# agregamos una nueva columna\n",
    "df1_cluster = df1.copy()\n",
    "df1_cluster[\"Cluster\"] = Model.fit_predict(df1)"
   ]
  },
  {
   "cell_type": "code",
   "execution_count": null,
   "metadata": {},
   "outputs": [],
   "source": [
    "# verificamos\n",
    "df1_cluster.head()"
   ]
  },
  {
   "cell_type": "code",
   "execution_count": null,
   "metadata": {},
   "outputs": [],
   "source": [
    "# graficamos\n",
    "# definimos el color\n",
    "# agregamos una nueva columna\n",
    "Color = ['red', 'blue', 'black', 'gold', 'navy']\n",
    "df1_cluster['Color'] = df1_cluster['Cluster'].map(lambda p:Color[p])"
   ]
  },
  {
   "cell_type": "code",
   "execution_count": null,
   "metadata": {},
   "outputs": [],
   "source": [
    "plt.figure(figsize=(20, 10))\n",
    "plt.scatter(df1[\"Annual Income (k$)\"],\n",
    "           df1[\"Spending Score (1-100)\"],\n",
    "           c=df1_cluster[\"Color\"])\n",
    "\n",
    "plt.scatter(centroids[:, 0], centroids[:, 1], c='green', s=250)\n",
    "plt.show()"
   ]
  },
  {
   "cell_type": "code",
   "execution_count": null,
   "metadata": {},
   "outputs": [],
   "source": [
    "# obtenemos las etiquetas\n",
    "labels = Model.labels_"
   ]
  },
  {
   "cell_type": "code",
   "execution_count": null,
   "metadata": {},
   "outputs": [],
   "source": [
    "# calculamos el coeficiente de silueta\n",
    "silhouette_score(df1, labels)"
   ]
  },
  {
   "cell_type": "code",
   "execution_count": null,
   "metadata": {},
   "outputs": [],
   "source": [
    "silhouette = {} # Almacenamiento de valores \n",
    "\n",
    "for k in range(2,8):# el rango es de 2 a 7\n",
    "    km = KMeans(n_clusters=k, init='k-means++', max_iter=1000) # k-means de la biblioteca de scikit-learn, definimos n grupos y init inicializa los centroides \n",
    "    km.fit(df1) # ajuste del modelo\n",
    "    silhouette[k] = silhouette_score(df1, km.labels_) # calculo del coeficiente de silueta"
   ]
  },
  {
   "cell_type": "code",
   "execution_count": null,
   "metadata": {},
   "outputs": [],
   "source": [
    "sns.pointplot(x=list(silhouette.keys()), y=list(silhouette.values()))\n",
    "plt.xlabel(\"Number of Clusters (K)\")\n",
    "plt.ylabel(\"Silhouette Scores\")\n",
    "plt.title(\"Silhouette Scores for Each K\")\n",
    "plt.show()"
   ]
  },
  {
   "cell_type": "code",
   "execution_count": null,
   "metadata": {},
   "outputs": [],
   "source": [
    "df2= df.copy()"
   ]
  },
  {
   "cell_type": "code",
   "execution_count": null,
   "metadata": {},
   "outputs": [],
   "source": [
    "sum_of_sqr_dist = {}\n",
    "\n",
    "for k in range(1, 10):\n",
    "    km = KMeans(n_clusters=k, init='k-means++', max_iter=1000)\n",
    "    km = km.fit(df1)\n",
    "    sum_of_sqr_dist[k] = km.inertia_"
   ]
  },
  {
   "cell_type": "code",
   "execution_count": null,
   "metadata": {},
   "outputs": [],
   "source": [
    "sns.pointplot(x=list(sum_of_sqr_dist.keys()), y=list(sum_of_sqr_dist.values()))\n",
    "plt.xlabel(\"Number of Clusters (K)\")\n",
    "plt.ylabel(\"Sum of Square Distances\")\n",
    "plt.title(\"Elbow Method for Optimal K\")\n",
    "plt.show()"
   ]
  },
  {
   "cell_type": "code",
   "execution_count": null,
   "metadata": {},
   "outputs": [],
   "source": [
    "Model2 = KMeans(n_clusters=6, init='k-means++', max_iter=1000)\n",
    "Model2.fit(df2)"
   ]
  },
  {
   "cell_type": "code",
   "execution_count": null,
   "metadata": {},
   "outputs": [],
   "source": [
    "df2['Cluster'] = Model2.fit_predict(df2)# agregamos una nueva columna \n",
    "df2.head()# verificamos"
   ]
  },
  {
   "cell_type": "code",
   "execution_count": null,
   "metadata": {},
   "outputs": [],
   "source": [
    "labels = Model2.labels_# obtenemos las etiquetas \n",
    "centroids = Model2.cluster_centers_# obtenemos los centros"
   ]
  },
  {
   "cell_type": "code",
   "execution_count": null,
   "metadata": {},
   "outputs": [],
   "source": [
    "df2['labels'] = labels# agregamos una nueva columna\n",
    "\n",
    "trace = go.Scatter3d(# definimos el tipo de grafica\n",
    "                    x = df2['Age'],# agregamos una nueva columna\n",
    "                    y = df2['Annual Income (k$)'],# agregamos una nueva columna\n",
    "                    z = df2['Spending Score (1-100)'],# agregamos una nueva columna\n",
    "                    mode = 'markers',# definimos el tipo de grafica\n",
    "                    marker=dict(color=df2['labels'], size = 5, line=dict(color=df2['labels'], width=12), opacity=0.8)# definimos el color\n",
    "                    )\n",
    "    \n",
    "data = [trace]# agregamos una nueva columna\n",
    "layout = go.Layout(# definimos el tipo de grafica\n",
    "                    title='Clusters',# agregamos una nueva columna\n",
    "                    scene= dict(# definimos el tipo de grafica\n",
    "                                xaxis = dict(title = 'Age'),# agregamos una nueva columna\n",
    "                                yaxis = dict(title = 'Annual Income (k$)'),# agregamos una nueva columna\n",
    "                                zaxis = dict(title = 'Spending Score (1-100)'))# agregamos una nueva columna\n",
    "                                )\n",
    "\n",
    "fig = go.Figure(data=data, layout=layout)# agregamos una nueva columna\n",
    "py.offline.iplot(fig)#  agregamos una nueva columna\n",
    "plt.show()# agregamos una nueva columna"
   ]
  }
 ],
 "metadata": {
  "kernelspec": {
   "display_name": "Python 3",
   "language": "python",
   "name": "python3"
  },
  "language_info": {
   "codemirror_mode": {
    "name": "ipython",
    "version": 3
   },
   "file_extension": ".py",
   "mimetype": "text/x-python",
   "name": "python",
   "nbconvert_exporter": "python",
   "pygments_lexer": "ipython3",
   "version": "3.11.7"
  }
 },
 "nbformat": 4,
 "nbformat_minor": 2
}
